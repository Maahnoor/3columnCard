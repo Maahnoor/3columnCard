{
  "nbformat": 4,
  "nbformat_minor": 0,
  "metadata": {
    "colab": {
      "provenance": [],
      "authorship_tag": "ABX9TyP0XmoBnymnocpX04Oy+Zfx",
      "include_colab_link": true
    },
    "kernelspec": {
      "name": "python3",
      "display_name": "Python 3"
    },
    "language_info": {
      "name": "python"
    }
  },
  "cells": [
    {
      "cell_type": "markdown",
      "metadata": {
        "id": "view-in-github",
        "colab_type": "text"
      },
      "source": [
        "<a href=\"https://colab.research.google.com/github/Maahnoor/3columnCard/blob/main/Assignment.ipynb\" target=\"_parent\"><img src=\"https://colab.research.google.com/assets/colab-badge.svg\" alt=\"Open In Colab\"/></a>"
      ]
    },
    {
      "cell_type": "markdown",
      "source": [
        "#TASK 1 \n",
        "Import mother and father attributes"
      ],
      "metadata": {
        "id": "B2Bc-KoFdogp"
      }
    },
    {
      "cell_type": "code",
      "source": [
        "# creating Father class\n",
        "class Father:\n",
        "  def __init__(self, name, age):\n",
        "    self.name = name\n",
        "    self.age = age\n",
        "    self.skill = None\n",
        "  \n",
        "  def showSkill(self):\n",
        "    return f\"I am good at {self.skill}\"\n",
        "\n",
        "  def showSelf(self):\n",
        "    return f\"My name is {self.name}, I am {self.age}  years old\"\n",
        "  \n",
        "f1 = Father(\"Ahmed\", 40)\n",
        "f1.skill=(\"driving\")\n",
        "print(f1.showSelf())\n",
        "print(f1.showSkill())\n",
        "print([i for i in dir(f1) if \"__\" not in i])\n"
      ],
      "metadata": {
        "colab": {
          "base_uri": "https://localhost:8080/"
        },
        "id": "GwmUNfcZeMkd",
        "outputId": "f9dd8e59-87f0-4407-feb5-41dc9667116d"
      },
      "execution_count": 3,
      "outputs": [
        {
          "output_type": "stream",
          "name": "stdout",
          "text": [
            "My name is Ahmed, I am 40  years old\n",
            "I am good at driving\n",
            "['age', 'name', 'showSelf', 'showSkill', 'skill']\n"
          ]
        }
      ]
    },
    {
      "cell_type": "code",
      "source": [
        "#Creating Mother class\n",
        "class Mother:\n",
        "  def __init__(self, name):\n",
        "    self.name = name\n",
        "    self.language = None\n",
        "  \n",
        "  def showLanguage(self):\n",
        "    return f\"My name is {self.name} and I speak {self.language}\"\n",
        "m1 = Mother(\"Sarah\")\n",
        "m1.language = \"Urdu\"\n",
        "print(m1.showLanguage())\n",
        "print([i for i in dir(m1) if \"__\" not in i])"
      ],
      "metadata": {
        "colab": {
          "base_uri": "https://localhost:8080/"
        },
        "id": "OF25r1J2hsAm",
        "outputId": "64c2ee58-0184-48fa-8e35-863043ff5f13"
      },
      "execution_count": 4,
      "outputs": [
        {
          "output_type": "stream",
          "name": "stdout",
          "text": [
            "My name is Sarah and I speak Urdu\n",
            "['language', 'name', 'showLanguage']\n"
          ]
        }
      ]
    },
    {
      "cell_type": "code",
      "source": [
        "#Creating Child class\n",
        "class Child(Father,Mother):\n",
        "  def __init__(self,name,age):\n",
        "    Father.__init__(self, name, age)\n",
        "    Mother.__init__(self, name)\n",
        "    self.gender = None\n",
        "\n",
        "  def showSelf(self):\n",
        "    return (Father.showSelf(self) + f\" and I am a {self.gender}\")\n",
        "\n",
        "c1 = Child(\"Arhum\", 8)\n",
        "c1.gender = \"boy\"\n",
        "print(c1.showSelf())\n",
        "print([i for i in dir(c1) if \"__\" not in i])"
      ],
      "metadata": {
        "colab": {
          "base_uri": "https://localhost:8080/"
        },
        "id": "WBt-80hIuC88",
        "outputId": "0e5d09dd-0715-490c-ecab-8d24a423cfe8"
      },
      "execution_count": 5,
      "outputs": [
        {
          "output_type": "stream",
          "name": "stdout",
          "text": [
            "My name is Arhum, I am 8  years old and I am a boy\n",
            "['age', 'gender', 'language', 'name', 'showLanguage', 'showSelf', 'showSkill', 'skill']\n"
          ]
        }
      ]
    },
    {
      "cell_type": "markdown",
      "source": [
        "#TASK 2\n",
        "OPERATOR OVERLOADING"
      ],
      "metadata": {
        "id": "Z2MsVwmgLX0H"
      }
    },
    {
      "cell_type": "code",
      "source": [
        "class item:\n",
        "  def __init__(self,name,price):\n",
        "    self.price = price\n",
        "    self.name = name\n",
        "  def __add__(first, second):\n",
        "    x = first.price+second.price\n",
        "    return x\n",
        "\n",
        "item1 = item(\"eggs\", 200)\n",
        "item2 = item(\"milk\",150)\n",
        "print(item1+item2)"
      ],
      "metadata": {
        "colab": {
          "base_uri": "https://localhost:8080/"
        },
        "id": "LbUHamp7Levz",
        "outputId": "1bf04129-8ffa-4805-a25c-9c9a9567d171"
      },
      "execution_count": 1,
      "outputs": [
        {
          "output_type": "stream",
          "name": "stdout",
          "text": [
            "350\n"
          ]
        }
      ]
    }
  ]
}