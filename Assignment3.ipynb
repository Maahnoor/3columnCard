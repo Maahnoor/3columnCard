{
  "nbformat": 4,
  "nbformat_minor": 0,
  "metadata": {
    "colab": {
      "provenance": [],
      "collapsed_sections": [],
      "authorship_tag": "ABX9TyMTAHsD2Mtdn48EQesJWllS",
      "include_colab_link": true
    },
    "kernelspec": {
      "name": "python3",
      "display_name": "Python 3"
    },
    "language_info": {
      "name": "python"
    }
  },
  "cells": [
    {
      "cell_type": "markdown",
      "metadata": {
        "id": "view-in-github",
        "colab_type": "text"
      },
      "source": [
        "<a href=\"https://colab.research.google.com/github/Maahnoor/3columnCard/blob/main/Assignment3.ipynb\" target=\"_parent\"><img src=\"https://colab.research.google.com/assets/colab-badge.svg\" alt=\"Open In Colab\"/></a>"
      ]
    },
    {
      "cell_type": "markdown",
      "source": [
        "#TASK 1 \n",
        "Import mother and father attributes"
      ],
      "metadata": {
        "id": "B2Bc-KoFdogp"
      }
    },
    {
      "cell_type": "code",
      "source": [
        "# creating Father class\n",
        "class Father:\n",
        "  def __init__(self, name, age):\n",
        "    self.name = name\n",
        "    self.age = age\n",
        "  \n",
        "\n",
        "  def showFather(self):\n",
        "    return f\"My name is {self.name}, I am {self.age}  years old\"\n",
        "  \n",
        "f1 = Father(\"Ahmed\", 40)\n",
        "print(f1.showFather())\n",
        "print([i for i in dir(f1) if \"__\" not in i])\n"
      ],
      "metadata": {
        "colab": {
          "base_uri": "https://localhost:8080/"
        },
        "id": "GwmUNfcZeMkd",
        "outputId": "f44e41e9-cf26-429b-ea9f-791374641a3f"
      },
      "execution_count": 6,
      "outputs": [
        {
          "output_type": "stream",
          "name": "stdout",
          "text": [
            "My name is Ahmed, I am 40  years old\n",
            "['age', 'name', 'showFather']\n"
          ]
        }
      ]
    },
    {
      "cell_type": "code",
      "source": [
        "#Creating Mother class\n",
        "class Mother:\n",
        "  def __init__(self, language, height):\n",
        "    self.language = language\n",
        "    self.height = height\n",
        "  \n",
        "  def showMother(self):\n",
        "    return f\"I speak {self.language} and I am {self.height}m tall.\"\n",
        "m1 = Mother(\"Urdu\", 1.6)\n",
        "print(m1.showMother())\n",
        "print([i for i in dir(m1) if \"__\" not in i])"
      ],
      "metadata": {
        "colab": {
          "base_uri": "https://localhost:8080/"
        },
        "id": "OF25r1J2hsAm",
        "outputId": "fc7835f7-b824-4f8c-9138-803f61cd1938"
      },
      "execution_count": 7,
      "outputs": [
        {
          "output_type": "stream",
          "name": "stdout",
          "text": [
            "I speak Urdu and I am 1.6m tall.\n",
            "['height', 'language', 'showMother']\n"
          ]
        }
      ]
    },
    {
      "cell_type": "code",
      "source": [
        "#Creating Child class\n",
        "class Child(Father,Mother):\n",
        "  def __init__(self,name,age,language, height):\n",
        "    Father.__init__(self, name, age)\n",
        "    Mother.__init__(self, language, height)\n",
        "    self.gender = None\n",
        "    self.hobby = None\n",
        "\n",
        "  def showSelf(self):\n",
        "    return (Father.showFather(self) + f\" and I am a {self.gender}. \"+ Mother.showMother(self)+ f\" I like {self.hobby}\")\n",
        "\n",
        "c1 = Child(\"Arhum\", 8, \"English\", 1.5)\n",
        "c1.gender = \"boy\"\n",
        "c1.hobby = \"painting\"\n",
        "print(c1.showSelf())\n",
        "print([i for i in dir(c1) if \"__\" not in i])"
      ],
      "metadata": {
        "colab": {
          "base_uri": "https://localhost:8080/"
        },
        "id": "WBt-80hIuC88",
        "outputId": "954de7cd-872e-4f59-b483-03d7cc3405f3"
      },
      "execution_count": 9,
      "outputs": [
        {
          "output_type": "stream",
          "name": "stdout",
          "text": [
            "My name is Arhum, I am 8  years old and I am a boy. I speak English and I am 1.5m tall. I like painting\n",
            "['age', 'gender', 'height', 'hobby', 'language', 'name', 'showFather', 'showMother', 'showSelf']\n"
          ]
        }
      ]
    },
    {
      "cell_type": "markdown",
      "source": [
        "#TASK 2\n",
        "OPERATOR OVERLOADING"
      ],
      "metadata": {
        "id": "Z2MsVwmgLX0H"
      }
    },
    {
      "cell_type": "code",
      "source": [
        "class item:\n",
        "  def __init__(self,name,price):\n",
        "    self.price = price\n",
        "    self.name = name\n",
        "  def __add__(first, second):\n",
        "    x = first.price+second.price\n",
        "    return x\n",
        "\n",
        "item1 = item(\"eggs\", 200)\n",
        "item2 = item(\"milk\",150)\n",
        "print(item1+item2)"
      ],
      "metadata": {
        "colab": {
          "base_uri": "https://localhost:8080/"
        },
        "id": "LbUHamp7Levz",
        "outputId": "1bf04129-8ffa-4805-a25c-9c9a9567d171"
      },
      "execution_count": null,
      "outputs": [
        {
          "output_type": "stream",
          "name": "stdout",
          "text": [
            "350\n"
          ]
        }
      ]
    }
  ]
}